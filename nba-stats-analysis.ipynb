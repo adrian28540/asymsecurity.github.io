{
  "nbformat": 4,
  "nbformat_minor": 0,
  "metadata": {
    "colab": {
      "name": "Untitled0.ipynb",
      "provenance": [],
      "authorship_tag": "ABX9TyM5//21baMUdNlgvU1Q5dpB",
      "include_colab_link": true
    },
    "kernelspec": {
      "name": "python3",
      "display_name": "Python 3"
    },
    "language_info": {
      "name": "python"
    }
  },
  "cells": [
    {
      "cell_type": "markdown",
      "metadata": {
        "id": "view-in-github",
        "colab_type": "text"
      },
      "source": [
        "<a href=\"https://colab.research.google.com/github/adrian28540/asymsecurity.github.io/blob/main/nba-stats-analysis.ipynb\" target=\"_parent\"><img src=\"https://colab.research.google.com/assets/colab-badge.svg\" alt=\"Open In Colab\"/></a>"
      ]
    },
    {
      "cell_type": "code",
      "execution_count": 2,
      "metadata": {
        "id": "tNE5k4Uz9JKh"
      },
      "outputs": [],
      "source": [
        "import pandas_datareader as pdr\n",
        "import pandas as pd\n",
        "import requests\n",
        "import re\n",
        "from datetime import datetime\n",
        "from IPython.core.display import JSON"
      ]
    },
    {
      "cell_type": "code",
      "source": [
        "url = \"https://www.balldontlie.io/api/v1/games?seasons[]=2021&team_ids[]=10\""
      ],
      "metadata": {
        "id": "VgaY2TMz9anj"
      },
      "execution_count": 13,
      "outputs": []
    },
    {
      "cell_type": "code",
      "source": [
        "response = requests.get(url)"
      ],
      "metadata": {
        "id": "r7qoKd6E9pzJ"
      },
      "execution_count": 14,
      "outputs": []
    },
    {
      "cell_type": "code",
      "source": [
        "results = response.json()"
      ],
      "metadata": {
        "id": "IiuiwB9ehsMV"
      },
      "execution_count": 26,
      "outputs": []
    },
    {
      "cell_type": "code",
      "source": [
        "results"
      ],
      "metadata": {
        "id": "DxIXnpF2m34E"
      },
      "execution_count": null,
      "outputs": []
    },
    {
      "cell_type": "code",
      "source": [
        "results['data'][0]"
      ],
      "metadata": {
        "colab": {
          "base_uri": "https://localhost:8080/"
        },
        "id": "-YCQE0qwsUkc",
        "outputId": "4e59261c-dec7-4a83-f810-1abacdc4ba15"
      },
      "execution_count": 60,
      "outputs": [
        {
          "output_type": "execute_result",
          "data": {
            "text/plain": [
              "{'date': '2021-10-04T00:00:00.000Z',\n",
              " 'home_team': {'abbreviation': 'POR',\n",
              "  'city': 'Portland',\n",
              "  'conference': 'West',\n",
              "  'division': 'Northwest',\n",
              "  'full_name': 'Portland Trail Blazers',\n",
              "  'id': 25,\n",
              "  'name': 'Trail Blazers'},\n",
              " 'home_team_score': 107,\n",
              " 'id': 473361,\n",
              " 'period': 4,\n",
              " 'postseason': False,\n",
              " 'season': 2021,\n",
              " 'status': 'Final',\n",
              " 'time': '',\n",
              " 'visitor_team': {'abbreviation': 'GSW',\n",
              "  'city': 'Golden State',\n",
              "  'conference': 'West',\n",
              "  'division': 'Pacific',\n",
              "  'full_name': 'Golden State Warriors',\n",
              "  'id': 10,\n",
              "  'name': 'Warriors'},\n",
              " 'visitor_team_score': 121}"
            ]
          },
          "metadata": {},
          "execution_count": 60
        }
      ]
    },
    {
      "cell_type": "code",
      "source": [
        "sum = 0\n",
        "for i in range(len(results['data'])):\n",
        "  \n",
        "  sum += results['data'][i]['home_team_score']\n",
        "print (sum)"
      ],
      "metadata": {
        "colab": {
          "base_uri": "https://localhost:8080/"
        },
        "id": "I2EVqHQd0dkq",
        "outputId": "d4a4a6aa-c10e-4243-b838-4f93ae4fcb95"
      },
      "execution_count": 65,
      "outputs": [
        {
          "output_type": "stream",
          "name": "stdout",
          "text": [
            "2768\n"
          ]
        }
      ]
    }
  ]
}